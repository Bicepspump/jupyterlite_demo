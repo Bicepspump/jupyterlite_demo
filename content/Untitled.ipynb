{
 "cells": [
  {
   "cell_type": "code",
   "execution_count": 4,
   "id": "ad8766c3-5f55-4db6-ac41-eb9253973c34",
   "metadata": {
    "scrolled": true
   },
   "outputs": [
    {
     "name": "stdout",
     "output_type": "stream",
     "text": [
      "Requirement already satisfied: dacite in c:\\users\\bicepspump\\appdata\\local\\programs\\python\\python310\\lib\\site-packages (1.8.1)\n",
      "Note: you may need to restart the kernel to use updated packages.\n"
     ]
    },
    {
     "name": "stderr",
     "output_type": "stream",
     "text": [
      "\n",
      "[notice] A new release of pip is available: 23.0.1 -> 24.2\n",
      "[notice] To update, run: python.exe -m pip install --upgrade pip\n"
     ]
    },
    {
     "name": "stdout",
     "output_type": "stream",
     "text": [
      "Requirement already satisfied: pydantic in c:\\users\\bicepspump\\appdata\\local\\programs\\python\\python310\\lib\\site-packages (2.9.2)\n",
      "Requirement already satisfied: typing-extensions>=4.6.1 in c:\\users\\bicepspump\\appdata\\local\\programs\\python\\python310\\lib\\site-packages (from pydantic) (4.12.2)\n",
      "Requirement already satisfied: annotated-types>=0.6.0 in c:\\users\\bicepspump\\appdata\\local\\programs\\python\\python310\\lib\\site-packages (from pydantic) (0.7.0)\n",
      "Requirement already satisfied: pydantic-core==2.23.4 in c:\\users\\bicepspump\\appdata\\local\\programs\\python\\python310\\lib\\site-packages (from pydantic) (2.23.4)\n",
      "Note: you may need to restart the kernel to use updated packages.\n"
     ]
    },
    {
     "name": "stderr",
     "output_type": "stream",
     "text": [
      "\n",
      "[notice] A new release of pip is available: 23.0.1 -> 24.2\n",
      "[notice] To update, run: python.exe -m pip install --upgrade pip\n"
     ]
    },
    {
     "name": "stdout",
     "output_type": "stream",
     "text": [
      "Requirement already satisfied: multimethod in c:\\users\\bicepspump\\appdata\\local\\programs\\python\\python310\\lib\\site-packages (1.12)\n",
      "Note: you may need to restart the kernel to use updated packages.\n"
     ]
    },
    {
     "name": "stderr",
     "output_type": "stream",
     "text": [
      "\n",
      "[notice] A new release of pip is available: 23.0.1 -> 24.2\n",
      "[notice] To update, run: python.exe -m pip install --upgrade pip\n"
     ]
    },
    {
     "name": "stdout",
     "output_type": "stream",
     "text": [
      "Requirement already satisfied: tqdm in c:\\users\\bicepspump\\appdata\\local\\programs\\python\\python310\\lib\\site-packages (4.66.1)\n",
      "Requirement already satisfied: colorama in c:\\users\\bicepspump\\appdata\\local\\programs\\python\\python310\\lib\\site-packages (from tqdm) (0.4.6)\n",
      "Note: you may need to restart the kernel to use updated packages.\n"
     ]
    },
    {
     "name": "stderr",
     "output_type": "stream",
     "text": [
      "\n",
      "[notice] A new release of pip is available: 23.0.1 -> 24.2\n",
      "[notice] To update, run: python.exe -m pip install --upgrade pip\n"
     ]
    },
    {
     "name": "stdout",
     "output_type": "stream",
     "text": [
      "Requirement already satisfied: typeguard in c:\\users\\bicepspump\\appdata\\local\\programs\\python\\python310\\lib\\site-packages (4.3.0)\n",
      "Requirement already satisfied: typing-extensions>=4.10.0 in c:\\users\\bicepspump\\appdata\\local\\programs\\python\\python310\\lib\\site-packages (from typeguard) (4.12.2)\n",
      "Note: you may need to restart the kernel to use updated packages.\n"
     ]
    },
    {
     "name": "stderr",
     "output_type": "stream",
     "text": [
      "\n",
      "[notice] A new release of pip is available: 23.0.1 -> 24.2\n",
      "[notice] To update, run: python.exe -m pip install --upgrade pip\n"
     ]
    },
    {
     "name": "stdout",
     "output_type": "stream",
     "text": [
      "Requirement already satisfied: visions in c:\\users\\bicepspump\\appdata\\local\\programs\\python\\python310\\lib\\site-packages (0.7.6)\n",
      "Requirement already satisfied: networkx>=2.4 in c:\\users\\bicepspump\\appdata\\local\\programs\\python\\python310\\lib\\site-packages (from visions) (3.2.1)\n",
      "Requirement already satisfied: numpy>=1.23.2 in c:\\users\\bicepspump\\appdata\\local\\programs\\python\\python310\\lib\\site-packages (from visions) (2.1.2)\n",
      "Requirement already satisfied: multimethod>=1.4 in c:\\users\\bicepspump\\appdata\\local\\programs\\python\\python310\\lib\\site-packages (from visions) (1.12)\n",
      "Requirement already satisfied: attrs>=19.3.0 in c:\\users\\bicepspump\\appdata\\local\\programs\\python\\python310\\lib\\site-packages (from visions) (23.1.0)\n",
      "Requirement already satisfied: pandas>=2.0.0 in c:\\users\\bicepspump\\appdata\\local\\programs\\python\\python310\\lib\\site-packages (from visions) (2.2.2)\n",
      "Requirement already satisfied: python-dateutil>=2.8.2 in c:\\users\\bicepspump\\appdata\\local\\programs\\python\\python310\\lib\\site-packages (from pandas>=2.0.0->visions) (2.8.2)\n",
      "Requirement already satisfied: tzdata>=2022.7 in c:\\users\\bicepspump\\appdata\\local\\programs\\python\\python310\\lib\\site-packages (from pandas>=2.0.0->visions) (2024.1)\n",
      "Requirement already satisfied: pytz>=2020.1 in c:\\users\\bicepspump\\appdata\\local\\programs\\python\\python310\\lib\\site-packages (from pandas>=2.0.0->visions) (2024.1)\n",
      "Requirement already satisfied: six>=1.5 in c:\\users\\bicepspump\\appdata\\local\\programs\\python\\python310\\lib\\site-packages (from python-dateutil>=2.8.2->pandas>=2.0.0->visions) (1.16.0)\n",
      "Note: you may need to restart the kernel to use updated packages.\n"
     ]
    },
    {
     "name": "stderr",
     "output_type": "stream",
     "text": [
      "\n",
      "[notice] A new release of pip is available: 23.0.1 -> 24.2\n",
      "[notice] To update, run: python.exe -m pip install --upgrade pip\n"
     ]
    },
    {
     "name": "stdout",
     "output_type": "stream",
     "text": [
      "Requirement already satisfied: seaborn in c:\\users\\bicepspump\\appdata\\local\\programs\\python\\python310\\lib\\site-packages (0.13.2)\n",
      "Requirement already satisfied: matplotlib!=3.6.1,>=3.4 in c:\\users\\bicepspump\\appdata\\local\\programs\\python\\python310\\lib\\site-packages (from seaborn) (3.8.4)\n",
      "Requirement already satisfied: numpy!=1.24.0,>=1.20 in c:\\users\\bicepspump\\appdata\\local\\programs\\python\\python310\\lib\\site-packages (from seaborn) (2.1.2)\n",
      "Requirement already satisfied: pandas>=1.2 in c:\\users\\bicepspump\\appdata\\local\\programs\\python\\python310\\lib\\site-packages (from seaborn) (2.2.2)\n",
      "Requirement already satisfied: python-dateutil>=2.7 in c:\\users\\bicepspump\\appdata\\local\\programs\\python\\python310\\lib\\site-packages (from matplotlib!=3.6.1,>=3.4->seaborn) (2.8.2)\n",
      "Requirement already satisfied: packaging>=20.0 in c:\\users\\bicepspump\\appdata\\local\\programs\\python\\python310\\lib\\site-packages (from matplotlib!=3.6.1,>=3.4->seaborn) (23.2)\n",
      "Requirement already satisfied: kiwisolver>=1.3.1 in c:\\users\\bicepspump\\appdata\\local\\programs\\python\\python310\\lib\\site-packages (from matplotlib!=3.6.1,>=3.4->seaborn) (1.4.5)\n",
      "Requirement already satisfied: cycler>=0.10 in c:\\users\\bicepspump\\appdata\\local\\programs\\python\\python310\\lib\\site-packages (from matplotlib!=3.6.1,>=3.4->seaborn) (0.12.1)\n",
      "Requirement already satisfied: fonttools>=4.22.0 in c:\\users\\bicepspump\\appdata\\local\\programs\\python\\python310\\lib\\site-packages (from matplotlib!=3.6.1,>=3.4->seaborn) (4.51.0)\n",
      "Requirement already satisfied: pyparsing>=2.3.1 in c:\\users\\bicepspump\\appdata\\local\\programs\\python\\python310\\lib\\site-packages (from matplotlib!=3.6.1,>=3.4->seaborn) (3.1.2)\n",
      "Requirement already satisfied: contourpy>=1.0.1 in c:\\users\\bicepspump\\appdata\\local\\programs\\python\\python310\\lib\\site-packages (from matplotlib!=3.6.1,>=3.4->seaborn) (1.2.1)\n",
      "Requirement already satisfied: pillow>=8 in c:\\users\\bicepspump\\appdata\\local\\programs\\python\\python310\\lib\\site-packages (from matplotlib!=3.6.1,>=3.4->seaborn) (10.1.0)\n",
      "Requirement already satisfied: pytz>=2020.1 in c:\\users\\bicepspump\\appdata\\local\\programs\\python\\python310\\lib\\site-packages (from pandas>=1.2->seaborn) (2024.1)\n",
      "Requirement already satisfied: tzdata>=2022.7 in c:\\users\\bicepspump\\appdata\\local\\programs\\python\\python310\\lib\\site-packages (from pandas>=1.2->seaborn) (2024.1)\n",
      "Requirement already satisfied: six>=1.5 in c:\\users\\bicepspump\\appdata\\local\\programs\\python\\python310\\lib\\site-packages (from python-dateutil>=2.7->matplotlib!=3.6.1,>=3.4->seaborn) (1.16.0)\n",
      "Note: you may need to restart the kernel to use updated packages.\n"
     ]
    },
    {
     "name": "stderr",
     "output_type": "stream",
     "text": [
      "\n",
      "[notice] A new release of pip is available: 23.0.1 -> 24.2\n",
      "[notice] To update, run: python.exe -m pip install --upgrade pip\n"
     ]
    },
    {
     "name": "stdout",
     "output_type": "stream",
     "text": [
      "Requirement already satisfied: statsmodels in c:\\users\\bicepspump\\appdata\\local\\programs\\python\\python310\\lib\\site-packages (0.14.4)\n",
      "Requirement already satisfied: patsy>=0.5.6 in c:\\users\\bicepspump\\appdata\\local\\programs\\python\\python310\\lib\\site-packages (from statsmodels) (0.5.6)\n",
      "Requirement already satisfied: packaging>=21.3 in c:\\users\\bicepspump\\appdata\\local\\programs\\python\\python310\\lib\\site-packages (from statsmodels) (23.2)\n",
      "Requirement already satisfied: pandas!=2.1.0,>=1.4 in c:\\users\\bicepspump\\appdata\\local\\programs\\python\\python310\\lib\\site-packages (from statsmodels) (2.2.2)\n",
      "Requirement already satisfied: numpy<3,>=1.22.3 in c:\\users\\bicepspump\\appdata\\local\\programs\\python\\python310\\lib\\site-packages (from statsmodels) (2.1.2)\n",
      "Requirement already satisfied: scipy!=1.9.2,>=1.8 in c:\\users\\bicepspump\\appdata\\local\\programs\\python\\python310\\lib\\site-packages (from statsmodels) (1.14.0)\n",
      "Requirement already satisfied: pytz>=2020.1 in c:\\users\\bicepspump\\appdata\\local\\programs\\python\\python310\\lib\\site-packages (from pandas!=2.1.0,>=1.4->statsmodels) (2024.1)\n",
      "Requirement already satisfied: python-dateutil>=2.8.2 in c:\\users\\bicepspump\\appdata\\local\\programs\\python\\python310\\lib\\site-packages (from pandas!=2.1.0,>=1.4->statsmodels) (2.8.2)\n",
      "Requirement already satisfied: tzdata>=2022.7 in c:\\users\\bicepspump\\appdata\\local\\programs\\python\\python310\\lib\\site-packages (from pandas!=2.1.0,>=1.4->statsmodels) (2024.1)\n",
      "Requirement already satisfied: six in c:\\users\\bicepspump\\appdata\\local\\programs\\python\\python310\\lib\\site-packages (from patsy>=0.5.6->statsmodels) (1.16.0)\n",
      "Note: you may need to restart the kernel to use updated packages.\n"
     ]
    },
    {
     "name": "stderr",
     "output_type": "stream",
     "text": [
      "\n",
      "[notice] A new release of pip is available: 23.0.1 -> 24.2\n",
      "[notice] To update, run: python.exe -m pip install --upgrade pip\n"
     ]
    },
    {
     "name": "stdout",
     "output_type": "stream",
     "text": [
      "Requirement already satisfied: wordcloud in c:\\users\\bicepspump\\appdata\\local\\programs\\python\\python310\\lib\\site-packages (1.9.3)\n",
      "Requirement already satisfied: numpy>=1.6.1 in c:\\users\\bicepspump\\appdata\\local\\programs\\python\\python310\\lib\\site-packages (from wordcloud) (2.1.2)\n",
      "Requirement already satisfied: pillow in c:\\users\\bicepspump\\appdata\\local\\programs\\python\\python310\\lib\\site-packages (from wordcloud) (10.1.0)\n",
      "Requirement already satisfied: matplotlib in c:\\users\\bicepspump\\appdata\\local\\programs\\python\\python310\\lib\\site-packages (from wordcloud) (3.8.4)\n",
      "Requirement already satisfied: packaging>=20.0 in c:\\users\\bicepspump\\appdata\\local\\programs\\python\\python310\\lib\\site-packages (from matplotlib->wordcloud) (23.2)\n",
      "Requirement already satisfied: fonttools>=4.22.0 in c:\\users\\bicepspump\\appdata\\local\\programs\\python\\python310\\lib\\site-packages (from matplotlib->wordcloud) (4.51.0)\n",
      "Requirement already satisfied: python-dateutil>=2.7 in c:\\users\\bicepspump\\appdata\\local\\programs\\python\\python310\\lib\\site-packages (from matplotlib->wordcloud) (2.8.2)\n",
      "Requirement already satisfied: cycler>=0.10 in c:\\users\\bicepspump\\appdata\\local\\programs\\python\\python310\\lib\\site-packages (from matplotlib->wordcloud) (0.12.1)\n",
      "Requirement already satisfied: contourpy>=1.0.1 in c:\\users\\bicepspump\\appdata\\local\\programs\\python\\python310\\lib\\site-packages (from matplotlib->wordcloud) (1.2.1)\n",
      "Requirement already satisfied: pyparsing>=2.3.1 in c:\\users\\bicepspump\\appdata\\local\\programs\\python\\python310\\lib\\site-packages (from matplotlib->wordcloud) (3.1.2)\n",
      "Requirement already satisfied: kiwisolver>=1.3.1 in c:\\users\\bicepspump\\appdata\\local\\programs\\python\\python310\\lib\\site-packages (from matplotlib->wordcloud) (1.4.5)\n",
      "Requirement already satisfied: six>=1.5 in c:\\users\\bicepspump\\appdata\\local\\programs\\python\\python310\\lib\\site-packages (from python-dateutil>=2.7->matplotlib->wordcloud) (1.16.0)\n",
      "Note: you may need to restart the kernel to use updated packages.\n"
     ]
    },
    {
     "name": "stderr",
     "output_type": "stream",
     "text": [
      "\n",
      "[notice] A new release of pip is available: 23.0.1 -> 24.2\n",
      "[notice] To update, run: python.exe -m pip install --upgrade pip\n"
     ]
    },
    {
     "name": "stdout",
     "output_type": "stream",
     "text": [
      "Requirement already satisfied: requests in c:\\users\\bicepspump\\appdata\\local\\programs\\python\\python310\\lib\\site-packages (2.31.0)\n",
      "Requirement already satisfied: certifi>=2017.4.17 in c:\\users\\bicepspump\\appdata\\local\\programs\\python\\python310\\lib\\site-packages (from requests) (2023.11.17)\n",
      "Requirement already satisfied: urllib3<3,>=1.21.1 in c:\\users\\bicepspump\\appdata\\local\\programs\\python\\python310\\lib\\site-packages (from requests) (2.1.0)\n",
      "Requirement already satisfied: charset-normalizer<4,>=2 in c:\\users\\bicepspump\\appdata\\local\\programs\\python\\python310\\lib\\site-packages (from requests) (3.3.2)\n",
      "Requirement already satisfied: idna<4,>=2.5 in c:\\users\\bicepspump\\appdata\\local\\programs\\python\\python310\\lib\\site-packages (from requests) (3.6)\n",
      "Note: you may need to restart the kernel to use updated packages.\n"
     ]
    },
    {
     "name": "stderr",
     "output_type": "stream",
     "text": [
      "\n",
      "[notice] A new release of pip is available: 23.0.1 -> 24.2\n",
      "[notice] To update, run: python.exe -m pip install --upgrade pip\n"
     ]
    },
    {
     "name": "stdout",
     "output_type": "stream",
     "text": [
      "Requirement already satisfied: markupsafe in c:\\users\\bicepspump\\appdata\\local\\programs\\python\\python310\\lib\\site-packages (2.1.3)\n",
      "Note: you may need to restart the kernel to use updated packages.\n"
     ]
    },
    {
     "name": "stderr",
     "output_type": "stream",
     "text": [
      "\n",
      "[notice] A new release of pip is available: 23.0.1 -> 24.2\n",
      "[notice] To update, run: python.exe -m pip install --upgrade pip\n"
     ]
    },
    {
     "name": "stdout",
     "output_type": "stream",
     "text": [
      "Requirement already satisfied: jinja2 in c:\\users\\bicepspump\\appdata\\local\\programs\\python\\python310\\lib\\site-packages (3.1.2)\n",
      "Requirement already satisfied: MarkupSafe>=2.0 in c:\\users\\bicepspump\\appdata\\local\\programs\\python\\python310\\lib\\site-packages (from jinja2) (2.1.3)\n",
      "Note: you may need to restart the kernel to use updated packages.\n"
     ]
    },
    {
     "name": "stderr",
     "output_type": "stream",
     "text": [
      "\n",
      "[notice] A new release of pip is available: 23.0.1 -> 24.2\n",
      "[notice] To update, run: python.exe -m pip install --upgrade pip\n"
     ]
    },
    {
     "name": "stdout",
     "output_type": "stream",
     "text": [
      "Note: you may need to restart the kernel to use updated packages.Requirement already satisfied: imagehash in c:\\users\\bicepspump\\appdata\\local\\programs\\python\\python310\\lib\\site-packages (4.3.1)\n",
      "Requirement already satisfied: scipy in c:\\users\\bicepspump\\appdata\\local\\programs\\python\\python310\\lib\\site-packages (from imagehash) (1.14.0)\n",
      "Requirement already satisfied: numpy in c:\\users\\bicepspump\\appdata\\local\\programs\\python\\python310\\lib\\site-packages (from imagehash) (2.1.2)\n",
      "Requirement already satisfied: pillow in c:\\users\\bicepspump\\appdata\\local\\programs\\python\\python310\\lib\\site-packages (from imagehash) (10.1.0)\n",
      "Requirement already satisfied: PyWavelets in c:\\users\\bicepspump\\appdata\\local\\programs\\python\\python310\\lib\\site-packages (from imagehash) (1.7.0)\n",
      "\n"
     ]
    },
    {
     "name": "stderr",
     "output_type": "stream",
     "text": [
      "\n",
      "[notice] A new release of pip is available: 23.0.1 -> 24.2\n",
      "[notice] To update, run: python.exe -m pip install --upgrade pip\n"
     ]
    }
   ],
   "source": [
    "%pip install dacite\n",
    "%pip install pydantic\n",
    "%pip install multimethod\n",
    "%pip install tqdm\n",
    "%pip install typeguard\n",
    "%pip install visions\n",
    "%pip install seaborn\n",
    "%pip install statsmodels\n",
    "%pip install wordcloud\n",
    "%pip install requests\n",
    "%pip install markupsafe\n",
    "%pip install jinja2\n",
    "%pip install imagehash"
   ]
  },
  {
   "cell_type": "code",
   "execution_count": 5,
   "id": "e9ab32cb-5e8c-4f2a-ae7d-ed4a0d5a2a30",
   "metadata": {
    "scrolled": true
   },
   "outputs": [
    {
     "name": "stdout",
     "output_type": "stream",
     "text": [
      "Collecting numpy==2.0\n",
      "  Downloading numpy-2.0.0-cp310-cp310-win_amd64.whl (16.5 MB)\n",
      "     ---------------------------------------- 0.0/16.5 MB ? eta -:--:--\n",
      "     ---------------------------------------- 0.1/16.5 MB 3.6 MB/s eta 0:00:05\n",
      "      --------------------------------------- 0.4/16.5 MB 6.4 MB/s eta 0:00:03\n",
      "     - -------------------------------------- 0.7/16.5 MB 7.2 MB/s eta 0:00:03\n",
      "     -- ------------------------------------- 1.0/16.5 MB 7.5 MB/s eta 0:00:03\n",
      "     -- ------------------------------------- 1.1/16.5 MB 6.5 MB/s eta 0:00:03\n",
      "     --- ------------------------------------ 1.4/16.5 MB 7.0 MB/s eta 0:00:03\n",
      "     ---- ----------------------------------- 1.8/16.5 MB 7.6 MB/s eta 0:00:02\n",
      "     ----- ---------------------------------- 2.1/16.5 MB 7.8 MB/s eta 0:00:02\n",
      "     ----- ---------------------------------- 2.4/16.5 MB 7.8 MB/s eta 0:00:02\n",
      "     ------ --------------------------------- 2.6/16.5 MB 7.5 MB/s eta 0:00:02\n",
      "     ------- -------------------------------- 2.9/16.5 MB 7.8 MB/s eta 0:00:02\n",
      "     ------- -------------------------------- 3.1/16.5 MB 7.7 MB/s eta 0:00:02\n",
      "     -------- ------------------------------- 3.6/16.5 MB 7.8 MB/s eta 0:00:02\n",
      "     --------- ------------------------------ 3.9/16.5 MB 8.0 MB/s eta 0:00:02\n",
      "     ---------- ----------------------------- 4.1/16.5 MB 8.0 MB/s eta 0:00:02\n",
      "     ---------- ----------------------------- 4.5/16.5 MB 8.2 MB/s eta 0:00:02\n",
      "     ----------- ---------------------------- 4.8/16.5 MB 8.2 MB/s eta 0:00:02\n",
      "     ------------ --------------------------- 5.0/16.5 MB 8.2 MB/s eta 0:00:02\n",
      "     ------------ --------------------------- 5.2/16.5 MB 7.9 MB/s eta 0:00:02\n",
      "     ------------- -------------------------- 5.5/16.5 MB 8.0 MB/s eta 0:00:02\n",
      "     -------------- ------------------------- 5.9/16.5 MB 8.1 MB/s eta 0:00:02\n",
      "     -------------- ------------------------- 6.2/16.5 MB 8.2 MB/s eta 0:00:02\n",
      "     -------------- ------------------------- 6.2/16.5 MB 8.2 MB/s eta 0:00:02\n",
      "     -------------- ------------------------- 6.2/16.5 MB 8.2 MB/s eta 0:00:02\n",
      "     -------------- ------------------------- 6.2/16.5 MB 8.2 MB/s eta 0:00:02\n",
      "     ------------------ --------------------- 7.4/16.5 MB 8.3 MB/s eta 0:00:02\n",
      "     ------------------ --------------------- 7.7/16.5 MB 8.2 MB/s eta 0:00:02\n",
      "     ------------------- -------------------- 8.1/16.5 MB 8.3 MB/s eta 0:00:02\n",
      "     ------------------- -------------------- 8.1/16.5 MB 8.2 MB/s eta 0:00:02\n",
      "     --------------------- ------------------ 8.7/16.5 MB 8.4 MB/s eta 0:00:01\n",
      "     --------------------- ------------------ 9.0/16.5 MB 8.5 MB/s eta 0:00:01\n",
      "     ---------------------- ----------------- 9.3/16.5 MB 8.4 MB/s eta 0:00:01\n",
      "     ----------------------- ---------------- 9.6/16.5 MB 8.4 MB/s eta 0:00:01\n",
      "     ----------------------- ---------------- 9.8/16.5 MB 8.4 MB/s eta 0:00:01\n",
      "     ------------------------ --------------- 10.1/16.5 MB 8.4 MB/s eta 0:00:01\n",
      "     ------------------------ --------------- 10.3/16.5 MB 8.4 MB/s eta 0:00:01\n",
      "     -------------------------- ------------- 10.8/16.5 MB 8.6 MB/s eta 0:00:01\n",
      "     --------------------------- ------------ 11.2/16.5 MB 8.6 MB/s eta 0:00:01\n",
      "     --------------------------- ------------ 11.4/16.5 MB 8.7 MB/s eta 0:00:01\n",
      "     ---------------------------- ----------- 11.7/16.5 MB 8.8 MB/s eta 0:00:01\n",
      "     ----------------------------- ---------- 12.1/16.5 MB 8.7 MB/s eta 0:00:01\n",
      "     ------------------------------ --------- 12.5/16.5 MB 8.7 MB/s eta 0:00:01\n",
      "     ------------------------------ --------- 12.7/16.5 MB 8.8 MB/s eta 0:00:01\n",
      "     ------------------------------- -------- 13.1/16.5 MB 8.8 MB/s eta 0:00:01\n",
      "     -------------------------------- ------- 13.4/16.5 MB 8.8 MB/s eta 0:00:01\n",
      "     --------------------------------- ------ 13.8/16.5 MB 9.1 MB/s eta 0:00:01\n",
      "     ---------------------------------- ----- 14.1/16.5 MB 9.0 MB/s eta 0:00:01\n",
      "     ---------------------------------- ----- 14.4/16.5 MB 9.1 MB/s eta 0:00:01\n",
      "     ----------------------------------- ---- 14.8/16.5 MB 9.0 MB/s eta 0:00:01\n",
      "     ------------------------------------ --- 15.0/16.5 MB 8.8 MB/s eta 0:00:01\n",
      "     ------------------------------------- -- 15.3/16.5 MB 9.2 MB/s eta 0:00:01\n",
      "     ------------------------------------- -- 15.6/16.5 MB 9.1 MB/s eta 0:00:01\n",
      "     -------------------------------------- - 16.0/16.5 MB 9.1 MB/s eta 0:00:01\n",
      "     ---------------------------------------  16.3/16.5 MB 9.1 MB/s eta 0:00:01\n",
      "     --------------------------------------  16.5/16.5 MB 10.1 MB/s eta 0:00:01\n",
      "     --------------------------------------  16.5/16.5 MB 10.1 MB/s eta 0:00:01\n",
      "     ---------------------------------------- 16.5/16.5 MB 9.5 MB/s eta 0:00:00\n",
      "Installing collected packages: numpy\n",
      "  Attempting uninstall: numpy\n",
      "    Found existing installation: numpy 2.1.2\n",
      "    Uninstalling numpy-2.1.2:\n",
      "      Successfully uninstalled numpy-2.1.2\n",
      "Note: you may need to restart the kernel to use updated packages.\n"
     ]
    },
    {
     "name": "stderr",
     "output_type": "stream",
     "text": [
      "ERROR: Could not install packages due to an OSError: [WinError 5] Access is denied: 'C:\\\\Users\\\\Bicepspump\\\\AppData\\\\Local\\\\Programs\\\\Python\\\\Python310\\\\Lib\\\\site-packages\\\\~-mpy.libs\\\\libscipy_openblas64_-c16e4918366c6bc1f1cd71e28ca36fc0.dll'\n",
      "Consider using the `--user` option or check the permissions.\n",
      "\n",
      "\n",
      "[notice] A new release of pip is available: 23.0.1 -> 24.2\n",
      "[notice] To update, run: python.exe -m pip install --upgrade pip\n"
     ]
    }
   ],
   "source": [
    "%pip install numpy==2.0"
   ]
  },
  {
   "cell_type": "code",
   "execution_count": 6,
   "id": "94e5299d-09a2-42df-918b-2dc7ce35b0c7",
   "metadata": {},
   "outputs": [],
   "source": [
    "import pandas as pd\n",
    "from tqdm.auto import tqdm\n",
    "import numpy as np"
   ]
  },
  {
   "cell_type": "code",
   "execution_count": 7,
   "id": "6b41eaf0-7b4e-4ff5-a29d-3491f46b859f",
   "metadata": {},
   "outputs": [
    {
     "ename": "ImportError",
     "evalue": "Numba needs NumPy 2.0 or less. Got NumPy 2.1.",
     "output_type": "error",
     "traceback": [
      "\u001b[1;31m---------------------------------------------------------------------------\u001b[0m",
      "\u001b[1;31mImportError\u001b[0m                               Traceback (most recent call last)",
      "Cell \u001b[1;32mIn[7], line 1\u001b[0m\n\u001b[1;32m----> 1\u001b[0m \u001b[38;5;28;01mimport\u001b[39;00m \u001b[38;5;21;01mydata_profiling\u001b[39;00m\n",
      "File \u001b[1;32m~\\jupyterlite_demo\\content\\ydata_profiling\\__init__.py:8\u001b[0m\n\u001b[0;32m      6\u001b[0m \u001b[38;5;66;03m# ignore numba warnings\u001b[39;00m\n\u001b[0;32m      7\u001b[0m \u001b[38;5;28;01mimport\u001b[39;00m \u001b[38;5;21;01mwarnings\u001b[39;00m  \u001b[38;5;66;03m# isort:skip # noqa\u001b[39;00m\n\u001b[1;32m----> 8\u001b[0m \u001b[38;5;28;01mfrom\u001b[39;00m \u001b[38;5;21;01mnumba\u001b[39;00m\u001b[38;5;21;01m.\u001b[39;00m\u001b[38;5;21;01mcore\u001b[39;00m\u001b[38;5;21;01m.\u001b[39;00m\u001b[38;5;21;01merrors\u001b[39;00m \u001b[38;5;28;01mimport\u001b[39;00m NumbaDeprecationWarning  \u001b[38;5;66;03m# isort:skip # noqa\u001b[39;00m\n\u001b[0;32m     10\u001b[0m warnings\u001b[38;5;241m.\u001b[39msimplefilter(\u001b[38;5;124m\"\u001b[39m\u001b[38;5;124mignore\u001b[39m\u001b[38;5;124m\"\u001b[39m, category\u001b[38;5;241m=\u001b[39mNumbaDeprecationWarning)\n\u001b[0;32m     12\u001b[0m \u001b[38;5;28;01mimport\u001b[39;00m \u001b[38;5;21;01mimportlib\u001b[39;00m\u001b[38;5;21;01m.\u001b[39;00m\u001b[38;5;21;01mutil\u001b[39;00m  \u001b[38;5;66;03m# isort:skip # noqa\u001b[39;00m\n",
      "File \u001b[1;32m~\\AppData\\Local\\Programs\\Python\\Python310\\lib\\site-packages\\numba\\__init__.py:59\u001b[0m\n\u001b[0;32m     54\u001b[0m             msg \u001b[38;5;241m=\u001b[39m (\u001b[38;5;124m\"\u001b[39m\u001b[38;5;124mNumba requires SciPy version 1.0 or greater. Got SciPy \u001b[39m\u001b[38;5;124m\"\u001b[39m\n\u001b[0;32m     55\u001b[0m                    \u001b[38;5;124mf\u001b[39m\u001b[38;5;124m\"\u001b[39m\u001b[38;5;132;01m{\u001b[39;00mscipy\u001b[38;5;241m.\u001b[39m__version__\u001b[38;5;132;01m}\u001b[39;00m\u001b[38;5;124m.\u001b[39m\u001b[38;5;124m\"\u001b[39m)\n\u001b[0;32m     56\u001b[0m             \u001b[38;5;28;01mraise\u001b[39;00m \u001b[38;5;167;01mImportError\u001b[39;00m(msg)\n\u001b[1;32m---> 59\u001b[0m \u001b[43m_ensure_critical_deps\u001b[49m\u001b[43m(\u001b[49m\u001b[43m)\u001b[49m\n\u001b[0;32m     60\u001b[0m \u001b[38;5;66;03m# END DO NOT MOVE\u001b[39;00m\n\u001b[0;32m     61\u001b[0m \u001b[38;5;66;03m# ---------------------- WARNING WARNING WARNING ----------------------------\u001b[39;00m\n\u001b[0;32m     64\u001b[0m \u001b[38;5;28;01mfrom\u001b[39;00m \u001b[38;5;21;01m.\u001b[39;00m\u001b[38;5;21;01m_version\u001b[39;00m \u001b[38;5;28;01mimport\u001b[39;00m get_versions\n",
      "File \u001b[1;32m~\\AppData\\Local\\Programs\\Python\\Python310\\lib\\site-packages\\numba\\__init__.py:45\u001b[0m, in \u001b[0;36m_ensure_critical_deps\u001b[1;34m()\u001b[0m\n\u001b[0;32m     42\u001b[0m \u001b[38;5;28;01mif\u001b[39;00m numpy_version \u001b[38;5;241m>\u001b[39m (\u001b[38;5;241m2\u001b[39m, \u001b[38;5;241m0\u001b[39m):\n\u001b[0;32m     43\u001b[0m     msg \u001b[38;5;241m=\u001b[39m (\u001b[38;5;124mf\u001b[39m\u001b[38;5;124m\"\u001b[39m\u001b[38;5;124mNumba needs NumPy 2.0 or less. Got NumPy \u001b[39m\u001b[38;5;124m\"\u001b[39m\n\u001b[0;32m     44\u001b[0m            \u001b[38;5;124mf\u001b[39m\u001b[38;5;124m\"\u001b[39m\u001b[38;5;132;01m{\u001b[39;00mnumpy_version[\u001b[38;5;241m0\u001b[39m]\u001b[38;5;132;01m}\u001b[39;00m\u001b[38;5;124m.\u001b[39m\u001b[38;5;132;01m{\u001b[39;00mnumpy_version[\u001b[38;5;241m1\u001b[39m]\u001b[38;5;132;01m}\u001b[39;00m\u001b[38;5;124m.\u001b[39m\u001b[38;5;124m\"\u001b[39m)\n\u001b[1;32m---> 45\u001b[0m     \u001b[38;5;28;01mraise\u001b[39;00m \u001b[38;5;167;01mImportError\u001b[39;00m(msg)\n\u001b[0;32m     47\u001b[0m \u001b[38;5;28;01mtry\u001b[39;00m:\n\u001b[0;32m     48\u001b[0m     \u001b[38;5;28;01mimport\u001b[39;00m \u001b[38;5;21;01mscipy\u001b[39;00m\n",
      "\u001b[1;31mImportError\u001b[0m: Numba needs NumPy 2.0 or less. Got NumPy 2.1."
     ]
    }
   ],
   "source": [
    "import ydata_profiling"
   ]
  },
  {
   "cell_type": "code",
   "execution_count": null,
   "id": "512f833b-9260-4364-b285-823ea29f3959",
   "metadata": {},
   "outputs": [],
   "source": []
  }
 ],
 "metadata": {
  "kernelspec": {
   "display_name": "Python 3 (ipykernel)",
   "language": "python",
   "name": "python3"
  },
  "language_info": {
   "codemirror_mode": {
    "name": "ipython",
    "version": 3
   },
   "file_extension": ".py",
   "mimetype": "text/x-python",
   "name": "python",
   "nbconvert_exporter": "python",
   "pygments_lexer": "ipython3",
   "version": "3.10.11"
  }
 },
 "nbformat": 4,
 "nbformat_minor": 5
}
