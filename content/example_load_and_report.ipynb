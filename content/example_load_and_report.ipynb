{
  "metadata": {
    "kernelspec": {
      "name": "python",
      "display_name": "Python (Pyodide)",
      "language": "python"
    },
    "language_info": {
      "codemirror_mode": {
        "name": "python",
        "version": 3
      },
      "file_extension": ".py",
      "mimetype": "text/x-python",
      "name": "python",
      "nbconvert_exporter": "python",
      "pygments_lexer": "ipython3",
      "version": "3.8"
    }
  },
  "nbformat_minor": 4,
  "nbformat": 4,
  "cells": [
    {
      "cell_type": "code",
      "source": "%pip install dacite\n%pip install pydantic\n%pip install multimethod\n%pip install tqdm\n%pip install typeguard\n%pip install visions\n%pip install seaborn\n%pip install statsmodels\n%pip install wordcloud\n%pip install requests\n%pip install markupsafe\n%pip install jinja2\n%pip install imagehash\n%pip install pyaml\n%pip install ipywidgets\n%pip install htmlmin2\n\nimport pandas as pd\nfrom tqdm.auto import tqdm\nimport numpy as np\nimport ydata_profiling",
      "metadata": {
        "trusted": true
      }
    },
    {
      "cell_type": "code",
      "source": "names = [\"Alice\", \"Bob\", \"Carl\", \"Debbie\"]\noccupations = [\"Accountant\", \"Data Scientist\", \"Ship Captain\", \"Athlete\"]\n\nret = []\nfor i in tqdm(range(300)):\n    ret.append({\n        \"Name\": np.random.choice(names),\n        \"Occupation\": np.random.choice(occupations),\n        \"Salary\": np.random.randint(50, 100) * 1000\n    })",
      "metadata": {
        "trusted": true
      }
    },
    {
      "cell_type": "code",
      "source": "df = pd.DataFrame(ret)\nprofile = ydata_profiling.ProfileReport(df)\nprofile",
      "metadata": {
        "trusted": true
      }
    }
  ]
}
