{
  "metadata": {
    "kernelspec": {
      "name": "python",
      "display_name": "Python (Pyodide)",
      "language": "python"
    },
    "language_info": {
      "codemirror_mode": {
        "name": "python",
        "version": 3
      },
      "file_extension": ".py",
      "mimetype": "text/x-python",
      "name": "python",
      "nbconvert_exporter": "python",
      "pygments_lexer": "ipython3",
      "version": "3.8"
    }
  },
  "nbformat_minor": 4,
  "nbformat": 4,
  "cells": [
    {
      "cell_type": "code",
      "source": "%pip install dacite\n%pip install pydantic\n%pip install multimethod\n%pip install tqdm\n%pip install typeguard\n%pip install visions\n%pip install seaborn\n%pip install statsmodels\n%pip install wordcloud\n%pip install requests\n%pip install markupsafe\n%pip install jinja2\n%pip install imagehash\n%pip install pyaml",
      "metadata": {
        "trusted": true
      },
      "outputs": [],
      "execution_count": 4
    },
    {
      "cell_type": "code",
      "source": "import pandas as pd\nfrom tqdm.auto import tqdm\nimport numpy as np",
      "metadata": {
        "trusted": true
      },
      "outputs": [
        {
          "name": "stderr",
          "text": "<ipython-input-2-de209c7805a8>:1: DeprecationWarning: \nPyarrow will become a required dependency of pandas in the next major release of pandas (pandas 3.0),\n(to allow more performant data types, such as the Arrow string type, and better interoperability with other libraries)\nbut was not found to be installed on your system.\nIf this would cause problems for you,\nplease provide us feedback at https://github.com/pandas-dev/pandas/issues/54466\n        \n  import pandas as pd\n",
          "output_type": "stream"
        }
      ],
      "execution_count": 2
    },
    {
      "cell_type": "code",
      "source": "import ydata_profiling",
      "metadata": {
        "trusted": true
      },
      "outputs": [],
      "execution_count": 5
    },
    {
      "cell_type": "code",
      "source": "ydata_profiling",
      "metadata": {
        "trusted": true
      },
      "outputs": [
        {
          "execution_count": 6,
          "output_type": "execute_result",
          "data": {
            "text/plain": "<module 'ydata_profiling' from '/drive/ydata_profiling/__init__.py'>"
          },
          "metadata": {}
        }
      ],
      "execution_count": 6
    },
    {
      "cell_type": "code",
      "source": "names = [\"Alice\", \"Bob\", \"Carl\", \"Debbie\"]\noccupations = [\"Accountant\", \"Data Scientist\", \"Ship Captain\", \"Athlete\"]\n\nret = []\nfor i in tqdm(range(300)):\n    ret.append({\n        \"Name\": np.random.choice(names),\n        \"Occupation\": np.random.choice(occupations),\n        \"Salary\": np.random.randint(50, 100) * 1000\n    })",
      "metadata": {
        "trusted": true
      },
      "outputs": [
        {
          "name": "stderr",
          "text": "<ipython-input-7-f1f35605f05b>:5: TqdmMonitorWarning: tqdm:disabling monitor support (monitor_interval = 0) due to:\ncan't start new thread\n  for i in tqdm(range(300)):\n100%|██████████| 300/300 [00:00<00:00, 23076.90it/s]\n",
          "output_type": "stream"
        }
      ],
      "execution_count": 7
    },
    {
      "cell_type": "code",
      "source": "df =",
      "metadata": {
        "trusted": true
      },
      "outputs": [],
      "execution_count": null
    }
  ]
}